{
 "cells": [
  {
   "cell_type": "code",
   "execution_count": 8,
   "metadata": {},
   "outputs": [
    {
     "data": {
      "image/png": "[encoded data removed]",
      "text/plain": [
       "<Figure size 432x288 with 4 Axes>"
      ]
     },
     "metadata": {},
     "output_type": "display_data"
    }
   ],
   "source": [
    "import numpy as np\n",
    "import cv2\n",
    "import matplotlib.pyplot as plt\n",
    "\n",
    "# load image\n",
    "image_path = \"./numbers.jpg\"\n",
    "img = cv2.imread(image_path)\n",
    "\n",
    "# convert to grayscale\n",
    "img_gray = cv2.cvtColor(img, cv2.COLOR_BGR2GRAY)\n",
    "height, width = img_gray.shape\n",
    "\n",
    "# set the threshold 55, 90 and 150\n",
    "THRESH_1 = 55\n",
    "THRESH_2 = 90\n",
    "THRESH_3 = 150\n",
    "THRESH_4 = 200\n",
    "            \n",
    "# same operation without loops\n",
    "ret, img_thresh_1 = cv2.threshold(img_gray, THRESH_1, 255, cv2.THRESH_BINARY)\n",
    "ret, img_thresh_2 = cv2.threshold(img_gray, THRESH_2, 255, cv2.THRESH_BINARY)\n",
    "ret, img_thresh_3 = cv2.threshold(img_gray, THRESH_3, 255, cv2.THRESH_BINARY)\n",
    "ret, img_thresh_4 = cv2.threshold(img_gray, THRESH_4, 255, cv2.THRESH_BINARY)\n",
    "\n",
    "# display images\n",
    "plt.figure(figsize=(20, 20))\n",
    "plt.subplot(151), plt.imshow(img_gray, cmap=\"gray\")\n",
    "plt.title(\"Grayscale Image\"), plt.xticks([]), plt.yticks([])\n",
    "plt.subplot(152), plt.imshow(img_thresh_1, cmap=\"gray\")\n",
    "plt.title(\"Thresholded 55\"), plt.xticks([]), plt.yticks([])\n",
    "plt.subplot(153), plt.imshow(img_thresh_2, cmap=\"gray\")\n",
    "plt.title(\"Thresholded 90\"), plt.xticks([]), plt.yticks([])\n",
    "plt.subplot(154), plt.imshow(img_thresh_3, cmap=\"gray\")\n",
    "plt.title(\"Thresholded 150\"), plt.xticks([]), plt.yticks([])\n",
    "plt.subplot(155), plt.imshow(img_thresh_4, cmap=\"gray\")\n",
    "plt.title(\"Thresholded 200\"), plt.xticks([]), plt.yticks([])\n",
    "plt.savefig('Thresholded_200.jpg')\n",
    "plt.show()"
   ]
  },
  {
   "cell_type": "code",
   "execution_count": 9,
   "metadata": {},
   "outputs": [
    {
     "data": {
      "image/png": "[encoded data removed]",
      "text/plain": [
       "<Figure size 432x288 with 1 Axes>"
      ]
     },
     "metadata": {},
     "output_type": "display_data"
    }
   ],
   "source": [
    "import numpy as np\n",
    "import cv2\n",
    "import matplotlib.pyplot as plt\n",
    "\n",
    "# load image\n",
    "image_path = \"./numbers.jpg\"\n",
    "img = cv2.imread(image_path)\n",
    "img_gray = cv2.cvtColor(img, cv2.COLOR_BGR2GRAY)\n",
    "height, width = img_gray.shape\n",
    "THRESH_4 = 200\n",
    "ret, img_thresh_4 = cv2.threshold(img_gray, THRESH_4, 255, cv2.THRESH_BINARY)\n",
    "plt.imshow(img_thresh_4, cmap=\"gray\")\n",
    "plt.title(\"Thresholded 200\"), plt.xticks([]), plt.yticks([])\n",
    "plt.savefig('Thresholded_200.jpg')"
   ]
  },
  {
   "cell_type": "code",
   "execution_count": null,
   "metadata": {},
   "outputs": [],
   "source": []
  }
 ],
 "metadata": {
  "kernelspec": {
   "display_name": "Python 3",
   "language": "python",
   "name": "python3"
  },
  "language_info": {
   "codemirror_mode": {
    "name": "ipython",
    "version": 3
   },
   "file_extension": ".py",
   "mimetype": "text/x-python",
   "name": "python",
   "nbconvert_exporter": "python",
   "pygments_lexer": "ipython3",
   "version": "3.6.5"
  }
 },
 "nbformat": 4,
 "nbformat_minor": 2
}
